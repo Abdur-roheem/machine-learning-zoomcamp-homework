{
 "cells": [
  {
   "cell_type": "code",
   "execution_count": 1,
   "id": "94b680cc",
   "metadata": {},
   "outputs": [],
   "source": [
    "import pandas as pd\n",
    "import numpy as np\n",
    "import seaborn as sns\n",
    "import matplotlib.pyplot as plp\n",
    "\n",
    "%matplotlib inline"
   ]
  },
  {
   "cell_type": "code",
   "execution_count": 2,
   "id": "0cc81b5b",
   "metadata": {},
   "outputs": [],
   "source": [
    "df = pd.read_csv(\"https://raw.githubusercontent.com/alexeygrigorev/datasets/master/car_fuel_efficiency.csv\")"
   ]
  },
  {
   "cell_type": "code",
   "execution_count": 3,
   "id": "2a657f9c",
   "metadata": {},
   "outputs": [
    {
     "data": {
      "text/html": [
       "<div>\n",
       "<style scoped>\n",
       "    .dataframe tbody tr th:only-of-type {\n",
       "        vertical-align: middle;\n",
       "    }\n",
       "\n",
       "    .dataframe tbody tr th {\n",
       "        vertical-align: top;\n",
       "    }\n",
       "\n",
       "    .dataframe thead th {\n",
       "        text-align: right;\n",
       "    }\n",
       "</style>\n",
       "<table border=\"1\" class=\"dataframe\">\n",
       "  <thead>\n",
       "    <tr style=\"text-align: right;\">\n",
       "      <th></th>\n",
       "      <th>engine_displacement</th>\n",
       "      <th>num_cylinders</th>\n",
       "      <th>horsepower</th>\n",
       "      <th>vehicle_weight</th>\n",
       "      <th>acceleration</th>\n",
       "      <th>model_year</th>\n",
       "      <th>origin</th>\n",
       "      <th>fuel_type</th>\n",
       "      <th>drivetrain</th>\n",
       "      <th>num_doors</th>\n",
       "      <th>fuel_efficiency_mpg</th>\n",
       "    </tr>\n",
       "  </thead>\n",
       "  <tbody>\n",
       "    <tr>\n",
       "      <th>0</th>\n",
       "      <td>170</td>\n",
       "      <td>3.0</td>\n",
       "      <td>159.0</td>\n",
       "      <td>3413.433759</td>\n",
       "      <td>17.7</td>\n",
       "      <td>2003</td>\n",
       "      <td>Europe</td>\n",
       "      <td>Gasoline</td>\n",
       "      <td>All-wheel drive</td>\n",
       "      <td>0.0</td>\n",
       "      <td>13.231729</td>\n",
       "    </tr>\n",
       "    <tr>\n",
       "      <th>1</th>\n",
       "      <td>130</td>\n",
       "      <td>5.0</td>\n",
       "      <td>97.0</td>\n",
       "      <td>3149.664934</td>\n",
       "      <td>17.8</td>\n",
       "      <td>2007</td>\n",
       "      <td>USA</td>\n",
       "      <td>Gasoline</td>\n",
       "      <td>Front-wheel drive</td>\n",
       "      <td>0.0</td>\n",
       "      <td>13.688217</td>\n",
       "    </tr>\n",
       "    <tr>\n",
       "      <th>2</th>\n",
       "      <td>170</td>\n",
       "      <td>NaN</td>\n",
       "      <td>78.0</td>\n",
       "      <td>3079.038997</td>\n",
       "      <td>15.1</td>\n",
       "      <td>2018</td>\n",
       "      <td>Europe</td>\n",
       "      <td>Gasoline</td>\n",
       "      <td>Front-wheel drive</td>\n",
       "      <td>0.0</td>\n",
       "      <td>14.246341</td>\n",
       "    </tr>\n",
       "    <tr>\n",
       "      <th>3</th>\n",
       "      <td>220</td>\n",
       "      <td>4.0</td>\n",
       "      <td>NaN</td>\n",
       "      <td>2542.392402</td>\n",
       "      <td>20.2</td>\n",
       "      <td>2009</td>\n",
       "      <td>USA</td>\n",
       "      <td>Diesel</td>\n",
       "      <td>All-wheel drive</td>\n",
       "      <td>2.0</td>\n",
       "      <td>16.912736</td>\n",
       "    </tr>\n",
       "    <tr>\n",
       "      <th>4</th>\n",
       "      <td>210</td>\n",
       "      <td>1.0</td>\n",
       "      <td>140.0</td>\n",
       "      <td>3460.870990</td>\n",
       "      <td>14.4</td>\n",
       "      <td>2009</td>\n",
       "      <td>Europe</td>\n",
       "      <td>Gasoline</td>\n",
       "      <td>All-wheel drive</td>\n",
       "      <td>2.0</td>\n",
       "      <td>12.488369</td>\n",
       "    </tr>\n",
       "  </tbody>\n",
       "</table>\n",
       "</div>"
      ],
      "text/plain": [
       "   engine_displacement  num_cylinders  horsepower  vehicle_weight  \\\n",
       "0                  170            3.0       159.0     3413.433759   \n",
       "1                  130            5.0        97.0     3149.664934   \n",
       "2                  170            NaN        78.0     3079.038997   \n",
       "3                  220            4.0         NaN     2542.392402   \n",
       "4                  210            1.0       140.0     3460.870990   \n",
       "\n",
       "   acceleration  model_year  origin fuel_type         drivetrain  num_doors  \\\n",
       "0          17.7        2003  Europe  Gasoline    All-wheel drive        0.0   \n",
       "1          17.8        2007     USA  Gasoline  Front-wheel drive        0.0   \n",
       "2          15.1        2018  Europe  Gasoline  Front-wheel drive        0.0   \n",
       "3          20.2        2009     USA    Diesel    All-wheel drive        2.0   \n",
       "4          14.4        2009  Europe  Gasoline    All-wheel drive        2.0   \n",
       "\n",
       "   fuel_efficiency_mpg  \n",
       "0            13.231729  \n",
       "1            13.688217  \n",
       "2            14.246341  \n",
       "3            16.912736  \n",
       "4            12.488369  "
      ]
     },
     "execution_count": 3,
     "metadata": {},
     "output_type": "execute_result"
    }
   ],
   "source": [
    "df.head()"
   ]
  },
  {
   "cell_type": "code",
   "execution_count": 4,
   "id": "8f3b47b2",
   "metadata": {},
   "outputs": [
    {
     "data": {
      "text/plain": [
       "engine_displacement      0\n",
       "num_cylinders          482\n",
       "horsepower             708\n",
       "vehicle_weight           0\n",
       "acceleration           930\n",
       "model_year               0\n",
       "origin                   0\n",
       "fuel_type                0\n",
       "drivetrain               0\n",
       "num_doors              502\n",
       "fuel_efficiency_mpg      0\n",
       "dtype: int64"
      ]
     },
     "execution_count": 4,
     "metadata": {},
     "output_type": "execute_result"
    }
   ],
   "source": [
    "df.isnull().sum()"
   ]
  },
  {
   "cell_type": "code",
   "execution_count": 5,
   "id": "e8672b26",
   "metadata": {},
   "outputs": [],
   "source": [
    "df = df[['engine_displacement','horsepower',\n",
    "'vehicle_weight','model_year','fuel_efficiency_mpg']]"
   ]
  },
  {
   "cell_type": "code",
   "execution_count": 6,
   "id": "3bd670aa",
   "metadata": {},
   "outputs": [
    {
     "name": "stdout",
     "output_type": "stream",
     "text": [
      "<class 'pandas.core.frame.DataFrame'>\n",
      "RangeIndex: 9704 entries, 0 to 9703\n",
      "Data columns (total 5 columns):\n",
      " #   Column               Non-Null Count  Dtype  \n",
      "---  ------               --------------  -----  \n",
      " 0   engine_displacement  9704 non-null   int64  \n",
      " 1   horsepower           8996 non-null   float64\n",
      " 2   vehicle_weight       9704 non-null   float64\n",
      " 3   model_year           9704 non-null   int64  \n",
      " 4   fuel_efficiency_mpg  9704 non-null   float64\n",
      "dtypes: float64(3), int64(2)\n",
      "memory usage: 379.2 KB\n"
     ]
    }
   ],
   "source": [
    "df.info()"
   ]
  },
  {
   "cell_type": "code",
   "execution_count": 7,
   "id": "3970707a",
   "metadata": {},
   "outputs": [
    {
     "data": {
      "text/plain": [
       "engine_displacement      0\n",
       "horsepower             708\n",
       "vehicle_weight           0\n",
       "model_year               0\n",
       "fuel_efficiency_mpg      0\n",
       "dtype: int64"
      ]
     },
     "execution_count": 7,
     "metadata": {},
     "output_type": "execute_result"
    }
   ],
   "source": [
    "df.isnull().sum()"
   ]
  },
  {
   "cell_type": "markdown",
   "id": "2ff3201f",
   "metadata": {},
   "source": [
    "horesepower is the only column with missing values"
   ]
  },
  {
   "cell_type": "code",
   "execution_count": 8,
   "id": "88acb760",
   "metadata": {},
   "outputs": [
    {
     "data": {
      "text/plain": [
       "149.0"
      ]
     },
     "execution_count": 8,
     "metadata": {},
     "output_type": "execute_result"
    }
   ],
   "source": [
    "df.horsepower.median()"
   ]
  },
  {
   "cell_type": "markdown",
   "id": "25eec353",
   "metadata": {},
   "source": [
    "median value of horsepower is 149"
   ]
  },
  {
   "cell_type": "code",
   "execution_count": 89,
   "id": "5097870e",
   "metadata": {},
   "outputs": [],
   "source": [
    "n = len(df)\n",
    "\n",
    "n_val = int(n * 0.2)\n",
    "n_test = int(n * 0.2)\n",
    "n_train = n - n_val - n_test"
   ]
  },
  {
   "cell_type": "code",
   "execution_count": 90,
   "id": "5ba9395e",
   "metadata": {},
   "outputs": [],
   "source": [
    "np.random.seed(2)\n",
    "idx = np.arange(n)\n",
    "np.random.shuffle(idx)"
   ]
  },
  {
   "cell_type": "code",
   "execution_count": 91,
   "id": "3695aea6",
   "metadata": {},
   "outputs": [],
   "source": [
    "df_train = df.iloc[idx[:n_train]].copy()\n",
    "df_val = df.iloc[idx[n_train:n_train+n_val]].copy()\n",
    "df_test = df.iloc[idx[n_train+n_val:]].copy()"
   ]
  },
  {
   "cell_type": "code",
   "execution_count": 92,
   "id": "d6bc611d",
   "metadata": {},
   "outputs": [
    {
     "data": {
      "image/png": "[encoded data removed]",
      "text/plain": [
       "<Figure size 640x480 with 1 Axes>"
      ]
     },
     "metadata": {},
     "output_type": "display_data"
    }
   ],
   "source": [
    "sns.histplot(df.fuel_efficiency_mpg);"
   ]
  },
  {
   "cell_type": "code",
   "execution_count": 93,
   "id": "f3c118cd",
   "metadata": {},
   "outputs": [],
   "source": [
    "y_train = df_train.fuel_efficiency_mpg.values\n",
    "y_val = df_val.fuel_efficiency_mpg.values\n",
    "y_test = df_test.fuel_efficiency_mpg.values"
   ]
  },
  {
   "cell_type": "code",
   "execution_count": 94,
   "id": "74b3f01a",
   "metadata": {},
   "outputs": [],
   "source": [
    "del df_train['fuel_efficiency_mpg']\n",
    "del df_val[\"fuel_efficiency_mpg\"]\n",
    "del df_test['fuel_efficiency_mpg']"
   ]
  },
  {
   "cell_type": "code",
   "execution_count": 96,
   "id": "a6ecc8e9",
   "metadata": {},
   "outputs": [
    {
     "name": "stdout",
     "output_type": "stream",
     "text": [
      "False\n",
      "False\n",
      "False\n"
     ]
    }
   ],
   "source": [
    "# to confirm if the target variable have been deleted\n",
    "check = [df_test, df_train, df_test]\n",
    "for col in check:\n",
    "    print('fuel_efficiency_mpg'  in col.columns)\n",
    "    "
   ]
  },
  {
   "cell_type": "code",
   "execution_count": 97,
   "id": "fef33581",
   "metadata": {},
   "outputs": [],
   "source": [
    "def train_linear_regression(X, y):\n",
    "    ones = np.ones(X.shape[0])\n",
    "    X = np.column_stack([ones, X])\n",
    "\n",
    "    XTX = X.T.dot(X)\n",
    "    XTX_inv = np.linalg.inv(XTX)\n",
    "    w_full = XTX_inv.dot(X.T).dot(y)\n",
    "\n",
    "    return w_full[0], w_full[1:]"
   ]
  },
  {
   "cell_type": "code",
   "execution_count": 98,
   "id": "4734dd36",
   "metadata": {},
   "outputs": [],
   "source": [
    "def rmse(y, y_pred):\n",
    "    se = (y - y_pred) ** 2\n",
    "    mse = se.mean()\n",
    "    return np.sqrt(mse)"
   ]
  },
  {
   "cell_type": "code",
   "execution_count": 99,
   "id": "c2492ac9",
   "metadata": {},
   "outputs": [
    {
     "data": {
      "text/plain": [
       "149.5732766586583"
      ]
     },
     "execution_count": 99,
     "metadata": {},
     "output_type": "execute_result"
    }
   ],
   "source": [
    "df_train.horsepower.mean()"
   ]
  },
  {
   "cell_type": "code",
   "execution_count": 100,
   "id": "ab904855",
   "metadata": {},
   "outputs": [
    {
     "data": {
      "text/plain": [
       "0.522806997480988"
      ]
     },
     "execution_count": 100,
     "metadata": {},
     "output_type": "execute_result"
    }
   ],
   "source": [
    "X_train_zero = df_train.fillna(0).values\n",
    "w0, w =train_linear_regression(X_train_zero, y_train)\n",
    "\n",
    "\n",
    "X_val_zero = df_val.fillna(0).values\n",
    "y_pred = w0 + X_val_zero.dot(w)\n",
    "\n",
    "rmse(y_val, y_pred)"
   ]
  },
  {
   "cell_type": "code",
   "execution_count": 101,
   "id": "3ccfa293",
   "metadata": {},
   "outputs": [
    {
     "data": {
      "text/plain": [
       "0.6210766339318806"
      ]
     },
     "execution_count": 101,
     "metadata": {},
     "output_type": "execute_result"
    }
   ],
   "source": [
    "X_train_mean = df_train.fillna(df_train.horsepower.mean()).values\n",
    "w0, w =train_linear_regression(X_train_mean, y_train)\n",
    "\n",
    "\n",
    "X_val_mean = df_val.fillna(df_train.horsepower.mean()).values\n",
    "y_pred = w0 + X_val_zero.dot(w)\n",
    "\n",
    "rmse(y_val, y_pred)"
   ]
  },
  {
   "cell_type": "markdown",
   "id": "f5e9b2ab",
   "metadata": {},
   "source": [
    " Filling the missing values with zero produced a better RMSE (0.52280) than when filled with the mean (0.62108)"
   ]
  },
  {
   "cell_type": "markdown",
   "id": "9d6d2214",
   "metadata": {},
   "source": []
  },
  {
   "cell_type": "code",
   "execution_count": 102,
   "id": "0554d57c",
   "metadata": {},
   "outputs": [],
   "source": [
    "def train_linear_regression_reg(X, y, r=0.001):\n",
    "    ones = np.ones(X.shape[0])\n",
    "    X = np.column_stack([ones, X])\n",
    "\n",
    "    XTX = X.T.dot(X)\n",
    "    XTX = XTX + r * np.eye(XTX.shape[0])\n",
    "    \n",
    "    XTX_inv = np.linalg.inv(XTX)\n",
    "    w_full = XTX_inv.dot(X.T).dot(y)\n",
    "\n",
    "    return w_full[0], w_full[1:]"
   ]
  },
  {
   "cell_type": "code",
   "execution_count": 103,
   "id": "1360df36",
   "metadata": {},
   "outputs": [
    {
     "name": "stdout",
     "output_type": "stream",
     "text": [
      "0 25.90435761114612 0.522806997480988\n",
      "0.01 22.36566580338446 0.523077387534454\n",
      "0.1 10.031903478782592 0.5260746881683305\n",
      "1 1.539917439318768 0.529971757231491\n",
      "5 0.32336727416426986 0.5306504452034331\n",
      "10 0.16270272429744864 0.5307423097117518\n",
      "100 0.016369304829391897 0.5308264158427356\n"
     ]
    }
   ],
   "source": [
    "for r in [0, 0.01, 0.1, 1, 5, 10, 100]:\n",
    "    # X_train = prepare_X(df_train)\n",
    "    w0, w =train_linear_regression_reg(X_train_zero, y_train, r=r)\n",
    "\n",
    "\n",
    "    # X_val = prepare_X(df_val)\n",
    "    X_val_zero * w[0]\n",
    "    y_pred = w0 + X_val_zero.dot(w)\n",
    "\n",
    "    score = rmse(y_val, y_pred)\n",
    "\n",
    "    print(r, w0, score)"
   ]
  },
  {
   "cell_type": "markdown",
   "id": "cb7268c7",
   "metadata": {},
   "source": [
    "When `r` is set to `0` came out with both lower rmse and lower r"
   ]
  },
  {
   "cell_type": "code",
   "execution_count": 104,
   "id": "f63d0b2e",
   "metadata": {},
   "outputs": [],
   "source": [
    "def train_linear_regression(X, y):\n",
    "    ones = np.ones(X.shape[0])\n",
    "    X = np.column_stack([ones, X])\n",
    "\n",
    "    XTX = X.T.dot(X)\n",
    "    XTX_inv = np.linalg.inv(XTX)\n",
    "    w_full = XTX_inv.dot(X.T).dot(y)\n",
    "\n",
    "    return w_full[0], w_full[1:]"
   ]
  },
  {
   "cell_type": "code",
   "execution_count": null,
   "id": "4afd3ad2",
   "metadata": {},
   "outputs": [],
   "source": []
  },
  {
   "cell_type": "code",
   "execution_count": 105,
   "id": "14f6e053",
   "metadata": {},
   "outputs": [
    {
     "name": "stdout",
     "output_type": "stream",
     "text": [
      "[0.5206531296322084, 0.521338891285115, 0.522806997480988, 0.5159516741274607, 0.5109129460079264, 0.5283406460097169, 0.5313910658176215, 0.5090670387351816, 0.5147399129251412, 0.5131865908516763]\n",
      "0.007\n"
     ]
    }
   ],
   "source": [
    "\n",
    "###\n",
    "seed = [0, 1, 2, 3, 4, 5, 6, 7, 8, 9]\n",
    "rmse_score = []\n",
    "for num in seed:\n",
    "    n = len(df)\n",
    "\n",
    "    n_val = int(n * 0.2)\n",
    "    n_test = int(n * 0.2)\n",
    "    n_train = n - n_val - n_test\n",
    "    \n",
    "    np.random.seed(num)\n",
    "    idx = np.arange(n)\n",
    "    np.random.shuffle(idx)\n",
    "    ###\n",
    "    df_train = df.iloc[idx[:n_train]].copy()\n",
    "    df_val = df.iloc[idx[n_train:n_train+n_val]].copy()\n",
    "    df_test = df.iloc[idx[n_train+n_val:]].copy()\n",
    "    ###\n",
    "    y_train = df_train.fuel_efficiency_mpg.values\n",
    "    y_val = df_val.fuel_efficiency_mpg.values\n",
    "    y_test = df_test.fuel_efficiency_mpg.values\n",
    "###\n",
    "    del df_train['fuel_efficiency_mpg']\n",
    "    del df_val[\"fuel_efficiency_mpg\"]\n",
    "    del df_test['fuel_efficiency_mpg']\n",
    "###\n",
    "\n",
    "    X_train_zero = df_train.fillna(0).values\n",
    "    w0, w =train_linear_regression(X_train_zero, y_train)\n",
    "\n",
    "\n",
    "    X_val_zero = df_val.fillna(0).values\n",
    "    # y_pred = w0 + X_val_zero * w[0]\n",
    "    y_pred = w0 + X_val_zero.dot(w)\n",
    "\n",
    "\n",
    "    score = rmse(y_val, y_pred)\n",
    "    rmse_score.append(score)\n",
    "print(rmse_score)\n",
    "print(round(np.std(rmse_score) , 3))"
   ]
  },
  {
   "cell_type": "markdown",
   "id": "582f8adc",
   "metadata": {},
   "source": [
    "`0.006` is the closest to the `std value` i got `0.007`"
   ]
  },
  {
   "cell_type": "code",
   "execution_count": 111,
   "id": "b714af9f",
   "metadata": {},
   "outputs": [],
   "source": [
    "n = len(df)\n",
    "\n",
    "n_val = int(n * 0.2)\n",
    "n_test = int(n * 0.2)\n",
    "n_train = n - n_val - n_test\n",
    "\n",
    "np.random.seed(9)\n",
    "idx = np.arange(n)\n",
    "np.random.shuffle(idx)\n",
    "###\n",
    "df_train = df.iloc[idx[:n_train]].copy()\n",
    "df_val = df.iloc[idx[n_train:n_train+n_val]].copy()\n",
    "df_test = df.iloc[idx[n_train+n_val:]].copy()\n",
    "###\n",
    "y_train = df_train.fuel_efficiency_mpg.values\n",
    "y_val = df_val.fuel_efficiency_mpg.values\n",
    "y_test = df_test.fuel_efficiency_mpg.values\n",
    "###\n",
    "del df_train['fuel_efficiency_mpg']\n",
    "del df_val[\"fuel_efficiency_mpg\"]\n",
    "del df_test['fuel_efficiency_mpg']"
   ]
  },
  {
   "cell_type": "code",
   "execution_count": 112,
   "id": "19ba9237",
   "metadata": {},
   "outputs": [],
   "source": [
    "df_full_train = pd.concat([df_train, df_val])"
   ]
  },
  {
   "cell_type": "code",
   "execution_count": 113,
   "id": "d6c0ce2a",
   "metadata": {},
   "outputs": [],
   "source": [
    "y_full_train = np.concatenate([y_train, y_val])"
   ]
  },
  {
   "cell_type": "code",
   "execution_count": 114,
   "id": "8349aa70",
   "metadata": {},
   "outputs": [],
   "source": [
    "def train_linear_regression_reg(X, y, r=0.001):\n",
    "    ones = np.ones(X.shape[0])\n",
    "    X = np.column_stack([ones, X])\n",
    "\n",
    "    XTX = X.T.dot(X)\n",
    "    XTX = XTX + r * np.eye(XTX.shape[0])\n",
    "    \n",
    "    XTX_inv = np.linalg.inv(XTX)\n",
    "    w_full = XTX_inv.dot(X.T).dot(y)\n",
    "\n",
    "    return w_full[0], w_full[1:]"
   ]
  },
  {
   "cell_type": "code",
   "execution_count": 115,
   "id": "5a204b85",
   "metadata": {},
   "outputs": [],
   "source": [
    "X_full = df_full_train.fillna(0).values\n",
    "w0, w =train_linear_regression(X_full, y_full_train)\n"
   ]
  },
  {
   "cell_type": "code",
   "execution_count": 116,
   "id": "f88d32ff",
   "metadata": {},
   "outputs": [
    {
     "data": {
      "text/plain": [
       "array([ 1.42958143e-05,  3.56474528e-03, -5.01717951e-03,  1.13344611e-03])"
      ]
     },
     "execution_count": 116,
     "metadata": {},
     "output_type": "execute_result"
    }
   ],
   "source": [
    "w"
   ]
  },
  {
   "cell_type": "code",
   "execution_count": 117,
   "id": "84b4ac8b",
   "metadata": {},
   "outputs": [
    {
     "data": {
      "text/plain": [
       "0.5156132021984322"
      ]
     },
     "execution_count": 117,
     "metadata": {},
     "output_type": "execute_result"
    }
   ],
   "source": [
    "X_test = df_test.fillna(0).values\n",
    "\n",
    "y_pred = w0 + X_test.dot(w)\n",
    "score = rmse(y_test, y_pred)\n",
    "\n",
    "score"
   ]
  },
  {
   "cell_type": "markdown",
   "id": "3e041ce2",
   "metadata": {},
   "source": [
    "`0.515` is the closest to my own rmse score `(0.5156)`"
   ]
  }
 ],
 "metadata": {
  "kernelspec": {
   "display_name": "base",
   "language": "python",
   "name": "python3"
  },
  "language_info": {
   "codemirror_mode": {
    "name": "ipython",
    "version": 3
   },
   "file_extension": ".py",
   "mimetype": "text/x-python",
   "name": "python",
   "nbconvert_exporter": "python",
   "pygments_lexer": "ipython3",
   "version": "3.11.5"
  }
 },
 "nbformat": 4,
 "nbformat_minor": 5
}
